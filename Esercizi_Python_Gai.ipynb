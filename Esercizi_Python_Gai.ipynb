{
  "nbformat": 4,
  "nbformat_minor": 0,
  "metadata": {
    "colab": {
      "name": "Esercizi Python Gai.ipynb",
      "provenance": [],
      "collapsed_sections": [],
      "authorship_tag": "ABX9TyOzuigl25PLola8yJjhczTY",
      "include_colab_link": true
    },
    "kernelspec": {
      "name": "python3",
      "display_name": "Python 3"
    },
    "language_info": {
      "name": "python"
    }
  },
  "cells": [
    {
      "cell_type": "markdown",
      "metadata": {
        "id": "view-in-github",
        "colab_type": "text"
      },
      "source": [
        "<a href=\"https://colab.research.google.com/github/Gaian-pixel/ITS-ICT_BigData/blob/master/Esercizi_Python_Gai.ipynb\" target=\"_parent\"><img src=\"https://colab.research.google.com/assets/colab-badge.svg\" alt=\"Open In Colab\"/></a>"
      ]
    },
    {
      "cell_type": "code",
      "metadata": {
        "colab": {
          "base_uri": "https://localhost:8080/"
        },
        "id": "4WPzxVAn6dpI",
        "outputId": "145206d1-231c-4a7f-e17e-0eb6483b7083"
      },
      "source": [
        "#Scrivere una funzione in Python che prenda come argomento una lista di numeri (interi o comma\n",
        "#flottante) e restituisca la lista ordinata dal maggiore al minore.\n",
        "\n",
        "listaNumeri = [1,5,3,87,21,54,32,34,89]\n",
        "def ordinamentoLista(listaNumeri):\n",
        "\n",
        "  listaNumeri.sort(reverse = True)\n",
        "  print(listaNumeri)\n",
        "\n",
        "ordinamentoLista(listaNumeri)"
      ],
      "execution_count": null,
      "outputs": [
        {
          "output_type": "stream",
          "name": "stdout",
          "text": [
            "[89, 87, 54, 34, 32, 21, 5, 3, 1]\n"
          ]
        }
      ]
    },
    {
      "cell_type": "code",
      "metadata": {
        "colab": {
          "base_uri": "https://localhost:8080/"
        },
        "id": "kZDaV47m7hjc",
        "outputId": "33a956b3-6a30-493b-b4a9-9c98669ddbca"
      },
      "source": [
        "# Scrivere una funzione che prenda come argomento una lista di numeri interi, e restituisca la somma\n",
        "#solo dei numeri pari.\n",
        "\n",
        "def sommaNumeriPari(listaNumeri):\n",
        "  risultato = 0\n",
        "  for item in listaNumeri:\n",
        "      if not item%2:\n",
        "       risultato += item\n",
        "  print(risultato)\n",
        "\n",
        "\n",
        "sommaNumeriPari(listaNumeri)"
      ],
      "execution_count": null,
      "outputs": [
        {
          "output_type": "stream",
          "name": "stdout",
          "text": [
            "120\n"
          ]
        }
      ]
    },
    {
      "cell_type": "code",
      "metadata": {
        "colab": {
          "base_uri": "https://localhost:8080/"
        },
        "id": "8GotZozv-f_7",
        "outputId": "2a60b44d-c0b6-4aa9-e4d1-99a5d046c439"
      },
      "source": [
        "#Scrivere una funzione che prenda come argomento una stringa e restituisca quella stringa scritta in\n",
        "#maiuscole e capovolta (ad es. notebook -> KOOBETON).\n",
        "stringa = \"giorgio\"\n",
        "\n",
        "def capovolgiToLower(stringa):\n",
        "  print(stringa[::-1].upper())\n",
        "\n",
        "capovolgiToLower(stringa)\n"
      ],
      "execution_count": null,
      "outputs": [
        {
          "output_type": "stream",
          "name": "stdout",
          "text": [
            "OIGROIG\n"
          ]
        }
      ]
    },
    {
      "cell_type": "code",
      "metadata": {
        "colab": {
          "base_uri": "https://localhost:8080/"
        },
        "id": "KThy8hNWB6Y3",
        "outputId": "3be0ec04-bb7d-429f-be3c-af86bf289328"
      },
      "source": [
        "#Scrivere una funzione con due argomenti, il primo argomento deve essere una frase e il secondo un\n",
        "#carattere alfanumerico. La funzione deve restituire la quantità di volte che quel carattere è presente\n",
        "#nella frase.\n",
        "\n",
        "frase = \"Il cielo era scuro\"\n",
        "simbolo = \"c\"\n",
        "\n",
        "def contaCarattere(frase,simbolo):\n",
        "  contatore = frase.count(simbolo)\n",
        "  print(contatore)\n",
        "\n",
        "contaCarattere(frase,simbolo)  "
      ],
      "execution_count": null,
      "outputs": [
        {
          "output_type": "stream",
          "name": "stdout",
          "text": [
            "2\n"
          ]
        }
      ]
    },
    {
      "cell_type": "code",
      "metadata": {
        "colab": {
          "base_uri": "https://localhost:8080/"
        },
        "id": "-CgUH1JpDQ0m",
        "outputId": "71d1bbba-97fe-40b3-b25c-7bd3d6154be8"
      },
      "source": [
        "#Scrivere una funzione chiamata describe che prenda come argomento una lista, e restituisca le seguenti\n",
        "#informazioni sui dati numerici presenti nella lista:\n",
        "#a. La quantità di dati numerici\n",
        "#b. Il valore minimo\n",
        "#c. Il valore massimo\n",
        "#d. La media\n",
        "\n",
        "def describe(listaNumeri):\n",
        "  quantitaDatiNumerici = len(listaNumeri)\n",
        "  minValore = min(listaNumeri)\n",
        "  maxValore = max(listaNumeri)\n",
        "  \n",
        "  sommaLista = 0\n",
        "  for numero in listaNumeri:\n",
        "    sommaLista += numero\n",
        "    \n",
        "  mediaValore = sommaLista / quantitaDatiNumerici\n",
        "\n",
        "  print(\"La quantità di dati numerici: \"\n",
        ",quantitaDatiNumerici, \"\\n\",\n",
        "\"Il valore minimo: \",minValore, \"\\n\",\n",
        "\"Il valore massimo: \",maxValore, \"\\n\",\n",
        "\"La media: \", mediaValore)\n",
        "\n",
        "describe(listaNumeri)"
      ],
      "execution_count": null,
      "outputs": [
        {
          "output_type": "stream",
          "name": "stdout",
          "text": [
            "La quantità di dati numerici:  9 \n",
            " Il valore minimo:  1 \n",
            " Il valore massimo:  89 \n",
            " La media:  36.22222222222222\n"
          ]
        }
      ]
    },
    {
      "cell_type": "code",
      "metadata": {
        "colab": {
          "base_uri": "https://localhost:8080/"
        },
        "id": "rE1eb-XUHt5R",
        "outputId": "4155e548-1c7a-4fe1-c326-55bb605f4561"
      },
      "source": [
        "#Scrivere una funzione che prenda come input un numero N tra 1 e 50. La funzione deve creare\n",
        "#internamente una lista di N numeri interi random nell’intervallo [0, 100], e altre due liste con N\n",
        "#elementi, chiamate maggiore60 e minore60, contenenti solo i valori 0 o 1. La lista maggiore60 deve\n",
        "#presentare il valore 1 in tutte le posizioni in cui il valore nella lista random è >= 60, e 0 nelle altre\n",
        "#posizioni. Fare il contrario per la lista minore60, inserire il valore 1 in tutte le posizioni in cui il valore\n",
        "#nella lista random è < 60, e 0 in tutte le altre. La funzione deve restituire un dizionario con tre chiavi:\n",
        "#lista_random, maggiore60, minore60. I valori associati a ogni chiave devono essere le liste generati.\n",
        "import random\n",
        "\n",
        "def funzioneRandom():\n",
        "    n=0\n",
        "    n=int(input(\"Inserire un numero tra 1 e 50: \"))\n",
        "\n",
        "    lista_random=[random.randrange(0,100) for i in range(n)]\n",
        "\n",
        "    maggiore60 = [None] * n\n",
        "    minore60 = [None] * n\n",
        "    valori = 0\n",
        "\n",
        "    for valori in range(len(lista_random)):\n",
        "      if lista_random[valori] >=60:\n",
        "        maggiore60[valori] = 1\n",
        "      else:\n",
        "        maggiore60[valori] = 0\n",
        "      if lista_random[valori] < 60:\n",
        "        minore60[valori] = 1\n",
        "      else:\n",
        "        minore60[valori] = 0\n",
        "    \n",
        "    dictionary = {\"Lista random\": lista_random, \"Lista maggiore di 60\": maggiore60, \"Lista minore di 60\": minore60}\n",
        "    \n",
        "    print(dictionary)\n",
        "    \n",
        "funzioneRandom() "
      ],
      "execution_count": null,
      "outputs": [
        {
          "output_type": "stream",
          "name": "stdout",
          "text": [
            "Inserire un numero tra 1 e 50: 10\n",
            "{'Lista random': [2, 62, 40, 56, 92, 93, 45, 35, 77, 16], 'Lista maggiore di 60': [0, 1, 0, 0, 1, 1, 0, 0, 1, 0], 'Lista minore di 60': [1, 0, 1, 1, 0, 0, 1, 1, 0, 1]}\n"
          ]
        }
      ]
    }
  ]
}